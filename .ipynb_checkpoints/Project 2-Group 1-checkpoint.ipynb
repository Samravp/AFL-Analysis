{
 "cells": [
  {
   "cell_type": "code",
   "execution_count": 1,
   "id": "72c2f63e",
   "metadata": {},
   "outputs": [],
   "source": [
    "\n",
    "# Dependencies\n",
    "import requests\n",
    "import json\n",
    "import pandas as pd\n",
    "import numpy as np\n",
    "from pprint import pprint\n",
    "api_format = \"json\"\n",
    "from sqlalchemy import create_engine"
   ]
  },
  {
   "cell_type": "markdown",
   "id": "eea8426d",
   "metadata": {},
   "source": [
    "Part 1- getting data"
   ]
  },
  {
   "cell_type": "code",
   "execution_count": 2,
   "id": "689ae447",
   "metadata": {},
   "outputs": [],
   "source": [
    "# for loop for different API \n",
    "li=[]\n",
    "name_q=['games','teams','tips']\n",
    "\n",
    "for q in name_q:\n",
    "    s=\"https://api.squiggle.com.au/?q=\"+q+\";format=json\"\n",
    "    li.append(s)"
   ]
  },
  {
   "cell_type": "code",
   "execution_count": 3,
   "id": "275aef6c",
   "metadata": {},
   "outputs": [],
   "source": [
    "#p print to check the json data\n",
    "#pprint(requests.get(li[0]).json())"
   ]
  },
  {
   "cell_type": "code",
   "execution_count": 4,
   "id": "a21bd14b",
   "metadata": {},
   "outputs": [],
   "source": [
    "#convering json data into dataframe \n",
    "df_games=pd.DataFrame.from_dict(pd.json_normalize(requests.get(li[0]).json()['games']),orient='columns')"
   ]
  },
  {
   "cell_type": "code",
   "execution_count": 5,
   "id": "efad0389",
   "metadata": {},
   "outputs": [
    {
     "name": "stdout",
     "output_type": "stream",
     "text": [
      "<class 'pandas.core.frame.DataFrame'>\n",
      "RangeIndex: 2220 entries, 0 to 2219\n",
      "Data columns (total 12 columns):\n",
      " #   Column        Non-Null Count  Dtype \n",
      "---  ------        --------------  ----- \n",
      " 0   away_goals    2220 non-null   int64 \n",
      " 1   year          2220 non-null   int64 \n",
      " 2   home_behinds  2220 non-null   int64 \n",
      " 3   home_goals    2220 non-null   int64 \n",
      " 4   away_behinds  2220 non-null   int64 \n",
      " 5   away_team     2220 non-null   object\n",
      " 6   home_team     2220 non-null   object\n",
      " 7   venue         2220 non-null   object\n",
      " 8   home_score    2220 non-null   int64 \n",
      " 9   away_score    2220 non-null   int64 \n",
      " 10  roundname     2220 non-null   object\n",
      " 11  winner        2203 non-null   object\n",
      "dtypes: int64(7), object(5)\n",
      "memory usage: 208.2+ KB\n"
     ]
    }
   ],
   "source": [
    "#clean data-Remove columns that we dont needed, rename columns names to make it  clear\\n\n",
    "df_clean=df_games.drop(columns=['localtime', 'date','tz','is_grand_final','complete','is_final','id',\n",
    "                                'hteamid','ateamid','winnerteamid','updated','round'])\n",
    "#rename column and assign it into \"Games\"\n",
    "Games=df_clean.rename(columns={'abehinds': 'away_behinds', 'hteam': 'home_team','hgoals': 'home_goals','hscore': 'home_score','hgoals': 'home_goals','ascore': 'away_score','agoals': 'away_goals','ateam': 'away_team','hbehinds': 'home_behinds'}) \n",
    "Games.info() "
   ]
  },
  {
   "cell_type": "code",
   "execution_count": 6,
   "id": "3fd64971",
   "metadata": {},
   "outputs": [
    {
     "data": {
      "text/plain": [
       "array(['M.C.G.', 'S.C.G.', 'Docklands', 'Carrara', 'Adelaide Oval',\n",
       "       'Subiaco', 'Sydney Showground', 'Gabba', 'Bellerive Oval',\n",
       "       'UNSW Canberra Oval', 'University of Tasmania Stadium',\n",
       "       'Adelaide Arena at Jiangwan Stadium', 'GMHBA Stadium',\n",
       "       'Traeger Park', 'Marrara Oval', \"Cazaly's Stadium\", 'Mars Stadium',\n",
       "       'Optus Stadium', 'Manuka Oval', 'Kardinia Park', 'York Park',\n",
       "       'Stadium Australia', 'Football Park', 'Blacktown', 'Wellington',\n",
       "       'Perth Stadium', 'Marvel Stadium', 'Eureka Stadium',\n",
       "       'Jiangwan Stadium', 'Riverway Stadium'], dtype=object)"
      ]
     },
     "execution_count": 6,
     "metadata": {},
     "output_type": "execute_result"
    }
   ],
   "source": [
    "#getting a list of venue names to get coordinate later \n",
    "Games['venue'].unique()"
   ]
  },
  {
   "cell_type": "code",
   "execution_count": 7,
   "id": "b3a2fa6a",
   "metadata": {},
   "outputs": [],
   "source": [
    "#loading players data from csv \n",
    "Players=pd.read_csv('stats.csv', encoding=\"ISO-8859-1\") \n",
    "#Players.info()\n",
    "#Players.head()"
   ]
  },
  {
   "cell_type": "code",
   "execution_count": 8,
   "id": "4c1a28e5",
   "metadata": {},
   "outputs": [
    {
     "name": "stdout",
     "output_type": "stream",
     "text": [
      "<class 'pandas.core.frame.DataFrame'>\n",
      "RangeIndex: 89470 entries, 0 to 89469\n",
      "Data columns (total 10 columns):\n",
      " #   Column       Non-Null Count  Dtype \n",
      "---  ------       --------------  ----- \n",
      " 0   team         89470 non-null  object\n",
      " 1   displayName  89470 non-null  object\n",
      " 2   Disposals    89470 non-null  int64 \n",
      " 3   Kicks        89470 non-null  int64 \n",
      " 4   Marks        89470 non-null  int64 \n",
      " 5   Handballs    89470 non-null  int64 \n",
      " 6   Goals        89470 non-null  int64 \n",
      " 7   Behinds      89470 non-null  int64 \n",
      " 8   Hit Outs     89470 non-null  int64 \n",
      " 9   Tackles      89470 non-null  int64 \n",
      "dtypes: int64(8), object(2)\n",
      "memory usage: 6.8+ MB\n"
     ]
    }
   ],
   "source": [
    "# getting certain columns for data we need for visualization \n",
    "Players=Players[['team','displayName','Disposals','Kicks','Marks','Handballs','Goals','Behinds','Hit Outs','Tackles']]\n",
    "Players.info()"
   ]
  },
  {
   "cell_type": "code",
   "execution_count": 9,
   "id": "b4377e77",
   "metadata": {},
   "outputs": [
    {
     "name": "stdout",
     "output_type": "stream",
     "text": [
      "<class 'pandas.core.frame.DataFrame'>\n",
      "RangeIndex: 30 entries, 0 to 29\n",
      "Data columns (total 3 columns):\n",
      " #   Column      Non-Null Count  Dtype  \n",
      "---  ------      --------------  -----  \n",
      " 0   Venue       30 non-null     object \n",
      " 1   Latitude    29 non-null     float64\n",
      " 2   Longtitude  29 non-null     float64\n",
      "dtypes: float64(2), object(1)\n",
      "memory usage: 848.0+ bytes\n"
     ]
    }
   ],
   "source": [
    "#loading venue data \n",
    "Venue=pd.read_csv('venue_coord.csv')\n",
    "Venue.info()"
   ]
  },
  {
   "cell_type": "markdown",
   "id": "5c0c07de",
   "metadata": {},
   "source": [
    "Part II: Connecting to SQL "
   ]
  },
  {
   "cell_type": "code",
   "execution_count": 10,
   "id": "612c5bba",
   "metadata": {
    "scrolled": true
   },
   "outputs": [],
   "source": [
    "# connecting \n",
    "connection_string = \"postgres:iloveyou@localhost:5432/project 2\"\n",
    "engine = create_engine(f'postgresql://{connection_string}')"
   ]
  },
  {
   "cell_type": "code",
   "execution_count": null,
   "id": "e7dbe803",
   "metadata": {},
   "outputs": [],
   "source": [
    "# transform data\n",
    "Games.to_sql(name='Games', con=engine, if_exists='replace', index=False)\n",
    "Players.to_sql(name='Players', con=engine, if_exists='replace', index=False)\n",
    "Venue.to_sql(name='Venue', con=engine, if_exists='replace', index=False)"
   ]
  },
  {
   "cell_type": "code",
   "execution_count": null,
   "id": "315d0d5f",
   "metadata": {
    "scrolled": true
   },
   "outputs": [],
   "source": [
    "# checking table has been created successfully\n",
    "engine.table_names()"
   ]
  },
  {
   "cell_type": "code",
   "execution_count": null,
   "id": "37c26a4a",
   "metadata": {},
   "outputs": [],
   "source": [
    "# checking data has been loaded successfully\n",
    "pd.read_sql_query('select * from \"Games\"', con=engine).head()"
   ]
  },
  {
   "cell_type": "code",
   "execution_count": null,
   "id": "95a92399",
   "metadata": {},
   "outputs": [],
   "source": []
  }
 ],
 "metadata": {
  "kernelspec": {
   "display_name": "Python 3",
   "language": "python",
   "name": "python3"
  },
  "language_info": {
   "codemirror_mode": {
    "name": "ipython",
    "version": 3
   },
   "file_extension": ".py",
   "mimetype": "text/x-python",
   "name": "python",
   "nbconvert_exporter": "python",
   "pygments_lexer": "ipython3",
   "version": "3.8.8"
  }
 },
 "nbformat": 4,
 "nbformat_minor": 5
}
